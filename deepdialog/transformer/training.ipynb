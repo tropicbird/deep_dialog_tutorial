{
 "cells": [
  {
   "cell_type": "code",
   "execution_count": 2,
   "metadata": {},
   "outputs": [
    {
     "name": "stdout",
     "output_type": "stream",
     "text": [
      "current dir: C:\\Users\\hdais\\Dropbox\\PycharmProjects\\deep_dialog_tutorial\n"
     ]
    }
   ],
   "source": [
    "# カレントディレクトリをリポジトリ直下にするおまじない\n",
    "# import os\n",
    "# while os.getcwd().split('/')[-1] != 'deep_dialog_tutorial': os.chdir('..')\n",
    "# print('current dir:', os.getcwd())\n",
    "\n",
    "#上記のおまじないコードがうまく作動しない場合は直接カレントディレクトリをレポジトリ直下にする。\n",
    "import os\n",
    "os.chdir(\"C:/Users/hdais/Dropbox/PycharmProjects/deep_dialog_tutorial\")#←ディレクトリの場所は各自で要変更\n",
    "print('current dir:', os.getcwd())"
   ]
  },
  {
   "cell_type": "code",
   "execution_count": 4,
   "metadata": {},
   "outputs": [],
   "source": [
    "import tensorflow as tf\n",
    "from deepdialog.transformer.transformer import Transformer\n",
    "from deepdialog.transformer.preprocess.batch_generator import BatchGenerator"
   ]
  },
  {
   "cell_type": "markdown",
   "metadata": {
    "pycharm": {
     "name": "#%% md\n"
    }
   },
   "source": [
    "# Create Data"
   ]
  },
  {
   "cell_type": "code",
   "execution_count": 5,
   "metadata": {
    "pycharm": {
     "name": "#%%\n"
    }
   },
   "outputs": [],
   "source": [
    "data_path = 'data/natsume.txt'"
   ]
  },
  {
   "cell_type": "code",
   "execution_count": 6,
   "metadata": {},
   "outputs": [],
   "source": [
    "batch_generator = BatchGenerator()\n",
    "batch_generator.load(data_path)"
   ]
  },
  {
   "cell_type": "code",
   "execution_count": 7,
   "metadata": {
    "pycharm": {
     "name": "#%%\n"
    }
   },
   "outputs": [
    {
     "data": {
      "text/plain": [
       "106066"
      ]
     },
     "execution_count": 7,
     "metadata": {},
     "output_type": "execute_result"
    }
   ],
   "source": [
    "#夏目漱石の小説の行数区切りの数（データ数）を確認\n",
    "len(batch_generator.data)"
   ]
  },
  {
   "cell_type": "code",
   "execution_count": 10,
   "metadata": {},
   "outputs": [
    {
     "name": "stdout",
     "output_type": "stream",
     "text": [
      "2\n",
      "12\n",
      "22\n"
     ]
    }
   ],
   "source": [
    "print(len(batch_generator.data[0]))\n",
    "#各データにはquestionとanswerの2行が入っている。\n",
    "\n",
    "print(len(batch_generator.data[0][0]))\n",
    "#questionのトークン数\n",
    "\n",
    "print(len(batch_generator.data[0][1]))\n",
    "#answerのトークン数"
   ]
  },
  {
   "cell_type": "code",
   "execution_count": 11,
   "metadata": {},
   "outputs": [],
   "source": [
    "with open(data_path, encoding=\"utf-8\") as f:\n",
    "    lines = [line.strip() for line in f.readlines()]"
   ]
  },
  {
   "cell_type": "code",
   "execution_count": 15,
   "metadata": {
    "pycharm": {
     "name": "#%%\n"
    }
   },
   "outputs": [
    {
     "data": {
      "text/plain": [
       "['虚子に誘われて珍らしく明治座を見に行った。', '芝居というものには全く無知無識であるから、どんな印象を受けるか自分にもまるで分らなかった。']"
      ]
     },
     "execution_count": 15,
     "metadata": {},
     "output_type": "execute_result"
    }
   ],
   "source": [
    "lines[:2]"
   ]
  },
  {
   "cell_type": "code",
   "execution_count": 16,
   "metadata": {},
   "outputs": [
    {
     "name": "stdout",
     "output_type": "stream",
     "text": [
      "12\n",
      "22\n"
     ]
    }
   ],
   "source": [
    "print(len(batch_generator.data[0][0]))\n",
    "print(len(batch_generator.data[0][1]))"
   ]
  },
  {
   "cell_type": "code",
   "execution_count": 18,
   "metadata": {},
   "outputs": [
    {
     "name": "stdout",
     "output_type": "stream",
     "text": [
      "8000\n"
     ]
    }
   ],
   "source": [
    "vocab_size = batch_generator.vocab_size\n",
    "print(vocab_size)\n",
    "#夏目漱石の小説を用いて作ったSentencePieceのモデルのトークン（単語）の種類の数"
   ]
  },
  {
   "cell_type": "code",
   "execution_count": 19,
   "metadata": {},
   "outputs": [
    {
     "data": {
      "text/plain": [
       "[7, 4849, 10, 2244, 2803, 2511, 625, 2977, 1048, 287, 2638, 4]"
      ]
     },
     "execution_count": 19,
     "metadata": {},
     "output_type": "execute_result"
    }
   ],
   "source": [
    "#文字列からエンコードの例\n",
    "batch_generator.sp.encode('虚子に誘われて珍らしく明治座を見に行った。')"
   ]
  },
  {
   "cell_type": "code",
   "execution_count": 21,
   "metadata": {},
   "outputs": [
    {
     "data": {
      "text/plain": [
       "'虚子に誘われて珍らしく明治座を見に行った。'"
      ]
     },
     "execution_count": 21,
     "metadata": {},
     "output_type": "execute_result"
    }
   ],
   "source": [
    "#トークンIDからのデコードの例\n",
    "batch_generator.sp.decode([7, 4849, 10, 2244, 2803, 2511, 625, 2977, 1048, 287, 2638, 4])"
   ]
  },
  {
   "cell_type": "code",
   "execution_count": 23,
   "metadata": {},
   "outputs": [
    {
     "name": "stdout",
     "output_type": "stream",
     "text": [
      "[7, 4849, 10, 2244, 2803, 2511, 625, 2977, 1048, 287, 2638, 4]\n"
     ]
    }
   ],
   "source": [
    "print(batch_generator.data[0][0])"
   ]
  },
  {
   "cell_type": "code",
   "execution_count": 24,
   "metadata": {
    "pycharm": {
     "name": "#%%\n"
    }
   },
   "outputs": [
    {
     "name": "stdout",
     "output_type": "stream",
     "text": [
      "0 \n",
      "1 \n",
      "2 \n",
      "3  ⁇ \n",
      "4 。\n",
      "5 、\n",
      "6 の\n",
      "7 \n",
      "8 を\n",
      "9 が\n",
      "10 に\n",
      "11 は\n",
      "12 と\n",
      "13 」\n",
      "14 「\n",
      "15 も\n",
      "16 から\n",
      "17 で\n",
      "18 か\n",
      "19 な\n"
     ]
    }
   ],
   "source": [
    "#トークンIDと対応する単語の確認\n",
    "for i in range(20):\n",
    "    print(i, batch_generator.sp.decode(i))"
   ]
  },
  {
   "cell_type": "markdown",
   "metadata": {
    "pycharm": {
     "name": "#%% md\n"
    }
   },
   "source": [
    "# Create Model"
   ]
  },
  {
   "cell_type": "code",
   "execution_count": 25,
   "metadata": {
    "pycharm": {
     "name": "#%%\n"
    }
   },
   "outputs": [
    {
     "name": "stdout",
     "output_type": "stream",
     "text": [
      "Tensor(\"transformer/encoder_input:0\", shape=(None, None), dtype=int32)\n",
      "WARNING:tensorflow:From C:\\Users\\hdais\\Dropbox\\github\\deep_dialog_tutorial\\deepdialog\\transformer\\embedding.py:22: Layer.add_variable (from tensorflow.python.keras.engine.base_layer) is deprecated and will be removed in a future version.\n",
      "Instructions for updating:\n",
      "Please use `layer.add_weight` method instead.\n",
      "WARNING:tensorflow:From C:\\Users\\hdais\\anaconda3\\envs\\tfgpu210\\lib\\site-packages\\tensorflow_core\\python\\ops\\resource_variable_ops.py:1635: calling BaseResourceVariable.__init__ (from tensorflow.python.ops.resource_variable_ops) with constraint is deprecated and will be removed in a future version.\n",
      "Instructions for updating:\n",
      "If using Keras pass *_constraint arguments to layers.\n"
     ]
    }
   ],
   "source": [
    "# <Step 1> グラフを構築\n",
    "graph = tf.Graph()\n",
    "'''\n",
    "once the scope of the with is exited,\n",
    "the previous default graph is set again as default.\n",
    "There is a stack, so it's ok to have multiple nested\n",
    "levels of as_default calls.\n",
    "'''\n",
    "\n",
    "'''with graph.as_default()について\n",
    "このグラフをデフォルトのグラフにするコンテキストマネージャーを返します。\n",
    "このメソッドは、同じプロセスで複数のグラフを作成したい場合に使用します。\n",
    "便宜上、グローバルな既定のグラフが提供されており、新しいグラフを明示的に作成しない場合は、\n",
    "すべての操作がこのグラフに追加されます。\n",
    "このメソッドを with キーワードで使用すると、ブロックのスコープ内で作成された ops をこのグラフに追加することを指定できます。\n",
    "この場合、一度withのスコープを抜けると、以前のデフォルトのグラフが再びデフォルトとして設定されます。\n",
    "スタックがあるので、as_default呼び出しの入れ子レベルが複数あっても大丈夫です。\n",
    "\n",
    "'''\n",
    "\n",
    "with graph.as_default():\n",
    "    transformer = Transformer(  #transformerフォルダのtransformer.pyに記載があるTransformerクラスをインポート\n",
    "        vocab_size=vocab_size,#夏目モデルの場合8000\n",
    "        hopping_num=4,\n",
    "        head_num=8,\n",
    "        hidden_dim=512,\n",
    "        dropout_rate=0.1,\n",
    "        max_length=50,\n",
    "    )\n",
    "    transformer.build_graph()"
   ]
  },
  {
   "cell_type": "markdown",
   "metadata": {
    "pycharm": {
     "name": "#%% md\n"
    }
   },
   "source": [
    "# Create Training Graph"
   ]
  },
  {
   "cell_type": "code",
   "execution_count": 27,
   "metadata": {
    "pycharm": {
     "name": "#%%\n"
    }
   },
   "outputs": [],
   "source": [
    "#logとcheckpointを保存するディレクトリを指定\n",
    "save_dir = 'tmp/learning/transformer/'\n",
    "log_dir = os.path.join(save_dir, 'log')\n",
    "ckpt_path = os.path.join(save_dir, 'checkpoints/model.ckpt')\n",
    "\n",
    "# exist_ok=Trueとすると既に末端ディレクトリが存在している場合もエラーが発生しない。\n",
    "# 末端ディレクトリが存在していなければ新規作成するし、存在していれば何もしない。\n",
    "# 前もって末端ディレクトリの存在確認をする必要がないので便利。\n",
    "os.makedirs(log_dir, exist_ok=True)"
   ]
  },
  {
   "cell_type": "code",
   "execution_count": 28,
   "metadata": {
    "pycharm": {
     "name": "#%%\n"
    }
   },
   "outputs": [
    {
     "name": "stdout",
     "output_type": "stream",
     "text": [
      "Tensor(\"transformer/metrics/loss_1:0\", shape=(), dtype=float32)\n",
      "<tf.Variable 'global_step:0' shape=() dtype=int64>\n"
     ]
    }
   ],
   "source": [
    "with graph.as_default():\n",
    "    # Check!!!\n",
    "    # global_step = tf.train.get_or_create_global_step()\n",
    "\n",
    "    # global_stepはバッチが提供されるたびに+1される。\n",
    "    # global_step refers to the number of batches seen by the graph.\n",
    "    # Every time a batch is provided, the weights are updated in the direction that minimizes the loss.\n",
    "    # global_step just keeps track of the number of batches seen so far. When it is passed in the minimize() argument list,\n",
    "    # the variable is increased by one. Have a look at optimizer.minimize().\n",
    "    global_step = tf.compat.v1.train.get_or_create_global_step()\n",
    "\n",
    "    # Check!!!\n",
    "    # learning_rate = tf.placeholder(dtype=tf.float32, name='learning_rate')\n",
    "    # learning_rate = tf.keras.Input(dtype=tf.float32, shape=(), name='learning_rate')\n",
    "\n",
    "    learning_rate = tf.compat.v1.placeholder(dtype=tf.float32, name='learning_rate')\n",
    "\n",
    "    # Check!!!\n",
    "    # optimizer = tf.keras.optimizers.Adam(\n",
    "    optimizer = tf.compat.v1.train.AdamOptimizer(\n",
    "        learning_rate=learning_rate,\n",
    "\n",
    "        # Check!!! learning_rateをtf.keras.Inputで作成する場合。\n",
    "        # Added[0]!!!\n",
    "        # learning_rate=learning_rate[0],\n",
    "\n",
    "        # Check!!!\n",
    "        beta2=0.98,\n",
    "        # beta_2=0.98,\n",
    "    )\n",
    "\n",
    "    print(transformer.loss)\n",
    "    print(global_step)\n",
    "\n",
    "    #optimizerに損失関数とglobal_step(バッチ数？？)を指定する。\n",
    "    #global_stepは\"Optional Variable to increment by one after the variables have been updated.\"\n",
    "    optimize_op = optimizer.minimize(transformer.loss, global_step=global_step)#この時にglobal_stepは+1される。引数global_stepの説明文は以下の通り\n",
    "    #global_step ---> Optional Variable to increment by one after the variables have been updated.\n",
    "\n",
    "    # Check!!!\n",
    "    # summary_op = tf.summary.merge([\n",
    "\n",
    "    # sammary.mergeは訓練中の３つの値（loss,acc,learning_rate）を保存すために使用？\n",
    "    # This op creates a Summary protocol buffer that contains\n",
    "    # the union of all the values in the input summaries.\n",
    "    summary_op = tf.compat.v1.summary.merge([\n",
    "        # tf.summary.scalar('train/loss', transformer.loss),\n",
    "        # tf.summary.scalar('train/acc', transformer.acc),\n",
    "        # tf.summary.scalar('train/learning_rate', learning_rate),\n",
    "\n",
    "        tf.compat.v1.summary.scalar('train/loss', transformer.loss),\n",
    "        tf.compat.v1.summary.scalar('train/acc', transformer.acc),\n",
    "        tf.compat.v1.summary.scalar('train/learning_rate', learning_rate),\n",
    "    ], name='train_summary')\n",
    "\n",
    "    # Check!!!\n",
    "    # summary_writer = tf.summary.FileWriter(log_dir, graph)\n",
    "\n",
    "    #log_dirは'tmp/learning/transformer/log')\n",
    "    summary_writer = tf.compat.v1.summary.FileWriter(log_dir, graph)\n",
    "\n",
    "    # Check!!!\n",
    "    # Tensorflowの学習パラーメータのsave, restoreにはtf.train.Saverを用います。\n",
    "    # The Saver class adds ops to save and restore variables to and from checkpoints.\n",
    "    # It also provides convenience methods to run these ops.\n",
    "    # tf.train.Saver()に何も引数を指定しない場合は全ての変数が保存される。\n",
    "    # saver = tf.train.Saver()\n",
    "    saver = tf.compat.v1.train.Saver()"
   ]
  },
  {
   "cell_type": "markdown",
   "metadata": {
    "pycharm": {
     "name": "#%% md\n"
    }
   },
   "source": [
    "# Train"
   ]
  },
  {
   "cell_type": "code",
   "execution_count": 29,
   "metadata": {
    "pycharm": {
     "name": "#%%\n"
    }
   },
   "outputs": [
    {
     "name": "stdout",
     "output_type": "stream",
     "text": [
      "[name: \"/device:CPU:0\"\n",
      "device_type: \"CPU\"\n",
      "memory_limit: 268435456\n",
      "locality {\n",
      "}\n",
      "incarnation: 593984697704350842\n",
      ", name: \"/device:GPU:0\"\n",
      "device_type: \"GPU\"\n",
      "memory_limit: 4963368960\n",
      "locality {\n",
      "  bus_id: 1\n",
      "  links {\n",
      "  }\n",
      "}\n",
      "incarnation: 12082601729438849142\n",
      "physical_device_desc: \"device: 0, name: GeForce RTX 2060, pci bus id: 0000:01:00.0, compute capability: 7.5\"\n",
      "]\n",
      "[PhysicalDevice(name='/physical_device:GPU:0', device_type='GPU')]\n"
     ]
    }
   ],
   "source": [
    "# GPUがTensorflowに認識されているか確認する。\n",
    "from tensorflow.python.client import device_lib\n",
    "\n",
    "# 念のため2パターンで確認\n",
    "print(device_lib.list_local_devices())\n",
    "print(tf.config.list_physical_devices('GPU') )"
   ]
  },
  {
   "cell_type": "code",
   "execution_count": 30,
   "metadata": {
    "pycharm": {
     "name": "#%%\n"
    }
   },
   "outputs": [],
   "source": [
    "max_step = 100000\n",
    "batch_size = 64 #メモリ不足の場合はバッチ数を減らす。\n",
    "max_learning_rate = 0.0001\n",
    "warmup_step = 4000"
   ]
  },
  {
   "cell_type": "code",
   "execution_count": 31,
   "metadata": {
    "pycharm": {
     "name": "#%%\n"
    }
   },
   "outputs": [],
   "source": [
    "def get_learning_rate(step: int) -> float:\n",
    "    rate = min(step ** -0.5, step * warmup_step ** -1.5) / warmup_step ** -0.5\n",
    "    return max_learning_rate * rate"
   ]
  },
  {
   "cell_type": "code",
   "execution_count": 32,
   "metadata": {
    "pycharm": {
     "name": "#%%\n"
    }
   },
   "outputs": [
    {
     "data": {
      "image/png": "[encoded data removed]",
      "text/plain": [
       "<Figure size 432x288 with 1 Axes>"
      ]
     },
     "metadata": {
      "needs_background": "light"
     },
     "output_type": "display_data"
    }
   ],
   "source": [
    "#learning_rateの推移を図で確認する。\n",
    "import matplotlib.pyplot as plt\n",
    "ls=[]\n",
    "for step in range(1,100000):\n",
    "    ls.append(get_learning_rate(step))\n",
    "plt.plot(ls,label='learning rate')\n",
    "plt.xlabel('step')\n",
    "plt.ylabel('learning rate')\n",
    "plt.legend()\n",
    "plt.show()"
   ]
  },
  {
   "cell_type": "code",
   "execution_count": 33,
   "metadata": {
    "pycharm": {
     "name": "#%%\n"
    }
   },
   "outputs": [],
   "source": [
    "with graph.as_default():\n",
    "    # 元コード\n",
    "    # sess = tf.Session()\n",
    "    # sess.run(tf.global_variables_initializer())\n",
    "\n",
    "    # TensorFlowのセッションとは、構築されたデータフローグラフの演算処理を\n",
    "    # 実際に行うランタイムへのクライアントのこと。\n",
    "    sess = tf.compat.v1.Session()\n",
    "\n",
    "    #sess.runについてはよく分かっていない。\n",
    "    sess.run(tf.compat.v1.global_variables_initializer())\n",
    "    step = 0"
   ]
  },
  {
   "cell_type": "code",
   "execution_count": 34,
   "metadata": {
    "pycharm": {
     "name": "#%%\n"
    }
   },
   "outputs": [
    {
     "name": "stdout",
     "output_type": "stream",
     "text": [
      "0: loss: 8.409122467041016,\t acc: 0.0007867820677347481\n",
      "100: loss: 8.077666282653809,\t acc: 0.057603687047958374\n"
     ]
    },
    {
     "ename": "KeyboardInterrupt",
     "evalue": "",
     "output_type": "error",
     "traceback": [
      "\u001B[1;31m---------------------------------------------------------------------------\u001B[0m",
      "\u001B[1;31mKeyboardInterrupt\u001B[0m                         Traceback (most recent call last)",
      "\u001B[1;32m<ipython-input-34-ff762411442a>\u001B[0m in \u001B[0;36m<module>\u001B[1;34m\u001B[0m\n\u001B[0;32m     16\u001B[0m         _, loss, acc, step, summary = sess.run( #stepはglobal_stepによってここで更新されている？\n\u001B[0;32m     17\u001B[0m             \u001B[1;33m[\u001B[0m\u001B[0moptimize_op\u001B[0m\u001B[1;33m,\u001B[0m \u001B[0mtransformer\u001B[0m\u001B[1;33m.\u001B[0m\u001B[0mloss\u001B[0m\u001B[1;33m,\u001B[0m \u001B[0mtransformer\u001B[0m\u001B[1;33m.\u001B[0m\u001B[0macc\u001B[0m\u001B[1;33m,\u001B[0m \u001B[0mglobal_step\u001B[0m\u001B[1;33m,\u001B[0m \u001B[0msummary_op\u001B[0m\u001B[1;33m]\u001B[0m\u001B[1;33m,\u001B[0m\u001B[1;33m\u001B[0m\u001B[1;33m\u001B[0m\u001B[0m\n\u001B[1;32m---> 18\u001B[1;33m             \u001B[0mfeed_dict\u001B[0m\u001B[1;33m=\u001B[0m\u001B[0mfeed\u001B[0m\u001B[1;33m\u001B[0m\u001B[1;33m\u001B[0m\u001B[0m\n\u001B[0m\u001B[0;32m     19\u001B[0m         )\n\u001B[0;32m     20\u001B[0m         \u001B[1;31m#sess.runの構文は、\u001B[0m\u001B[1;33m\u001B[0m\u001B[1;33m\u001B[0m\u001B[1;33m\u001B[0m\u001B[0m\n",
      "\u001B[1;32m~\\anaconda3\\envs\\tfgpu210\\lib\\site-packages\\tensorflow_core\\python\\client\\session.py\u001B[0m in \u001B[0;36mrun\u001B[1;34m(self, fetches, feed_dict, options, run_metadata)\u001B[0m\n\u001B[0;32m    958\u001B[0m     \u001B[1;32mtry\u001B[0m\u001B[1;33m:\u001B[0m\u001B[1;33m\u001B[0m\u001B[1;33m\u001B[0m\u001B[0m\n\u001B[0;32m    959\u001B[0m       result = self._run(None, fetches, feed_dict, options_ptr,\n\u001B[1;32m--> 960\u001B[1;33m                          run_metadata_ptr)\n\u001B[0m\u001B[0;32m    961\u001B[0m       \u001B[1;32mif\u001B[0m \u001B[0mrun_metadata\u001B[0m\u001B[1;33m:\u001B[0m\u001B[1;33m\u001B[0m\u001B[1;33m\u001B[0m\u001B[0m\n\u001B[0;32m    962\u001B[0m         \u001B[0mproto_data\u001B[0m \u001B[1;33m=\u001B[0m \u001B[0mtf_session\u001B[0m\u001B[1;33m.\u001B[0m\u001B[0mTF_GetBuffer\u001B[0m\u001B[1;33m(\u001B[0m\u001B[0mrun_metadata_ptr\u001B[0m\u001B[1;33m)\u001B[0m\u001B[1;33m\u001B[0m\u001B[1;33m\u001B[0m\u001B[0m\n",
      "\u001B[1;32m~\\anaconda3\\envs\\tfgpu210\\lib\\site-packages\\tensorflow_core\\python\\client\\session.py\u001B[0m in \u001B[0;36m_run\u001B[1;34m(self, handle, fetches, feed_dict, options, run_metadata)\u001B[0m\n\u001B[0;32m   1181\u001B[0m     \u001B[1;32mif\u001B[0m \u001B[0mfinal_fetches\u001B[0m \u001B[1;32mor\u001B[0m \u001B[0mfinal_targets\u001B[0m \u001B[1;32mor\u001B[0m \u001B[1;33m(\u001B[0m\u001B[0mhandle\u001B[0m \u001B[1;32mand\u001B[0m \u001B[0mfeed_dict_tensor\u001B[0m\u001B[1;33m)\u001B[0m\u001B[1;33m:\u001B[0m\u001B[1;33m\u001B[0m\u001B[1;33m\u001B[0m\u001B[0m\n\u001B[0;32m   1182\u001B[0m       results = self._do_run(handle, final_targets, final_fetches,\n\u001B[1;32m-> 1183\u001B[1;33m                              feed_dict_tensor, options, run_metadata)\n\u001B[0m\u001B[0;32m   1184\u001B[0m     \u001B[1;32melse\u001B[0m\u001B[1;33m:\u001B[0m\u001B[1;33m\u001B[0m\u001B[1;33m\u001B[0m\u001B[0m\n\u001B[0;32m   1185\u001B[0m       \u001B[0mresults\u001B[0m \u001B[1;33m=\u001B[0m \u001B[1;33m[\u001B[0m\u001B[1;33m]\u001B[0m\u001B[1;33m\u001B[0m\u001B[1;33m\u001B[0m\u001B[0m\n",
      "\u001B[1;32m~\\anaconda3\\envs\\tfgpu210\\lib\\site-packages\\tensorflow_core\\python\\client\\session.py\u001B[0m in \u001B[0;36m_do_run\u001B[1;34m(self, handle, target_list, fetch_list, feed_dict, options, run_metadata)\u001B[0m\n\u001B[0;32m   1359\u001B[0m     \u001B[1;32mif\u001B[0m \u001B[0mhandle\u001B[0m \u001B[1;32mis\u001B[0m \u001B[1;32mNone\u001B[0m\u001B[1;33m:\u001B[0m\u001B[1;33m\u001B[0m\u001B[1;33m\u001B[0m\u001B[0m\n\u001B[0;32m   1360\u001B[0m       return self._do_call(_run_fn, feeds, fetches, targets, options,\n\u001B[1;32m-> 1361\u001B[1;33m                            run_metadata)\n\u001B[0m\u001B[0;32m   1362\u001B[0m     \u001B[1;32melse\u001B[0m\u001B[1;33m:\u001B[0m\u001B[1;33m\u001B[0m\u001B[1;33m\u001B[0m\u001B[0m\n\u001B[0;32m   1363\u001B[0m       \u001B[1;32mreturn\u001B[0m \u001B[0mself\u001B[0m\u001B[1;33m.\u001B[0m\u001B[0m_do_call\u001B[0m\u001B[1;33m(\u001B[0m\u001B[0m_prun_fn\u001B[0m\u001B[1;33m,\u001B[0m \u001B[0mhandle\u001B[0m\u001B[1;33m,\u001B[0m \u001B[0mfeeds\u001B[0m\u001B[1;33m,\u001B[0m \u001B[0mfetches\u001B[0m\u001B[1;33m)\u001B[0m\u001B[1;33m\u001B[0m\u001B[1;33m\u001B[0m\u001B[0m\n",
      "\u001B[1;32m~\\anaconda3\\envs\\tfgpu210\\lib\\site-packages\\tensorflow_core\\python\\client\\session.py\u001B[0m in \u001B[0;36m_do_call\u001B[1;34m(self, fn, *args)\u001B[0m\n\u001B[0;32m   1365\u001B[0m   \u001B[1;32mdef\u001B[0m \u001B[0m_do_call\u001B[0m\u001B[1;33m(\u001B[0m\u001B[0mself\u001B[0m\u001B[1;33m,\u001B[0m \u001B[0mfn\u001B[0m\u001B[1;33m,\u001B[0m \u001B[1;33m*\u001B[0m\u001B[0margs\u001B[0m\u001B[1;33m)\u001B[0m\u001B[1;33m:\u001B[0m\u001B[1;33m\u001B[0m\u001B[1;33m\u001B[0m\u001B[0m\n\u001B[0;32m   1366\u001B[0m     \u001B[1;32mtry\u001B[0m\u001B[1;33m:\u001B[0m\u001B[1;33m\u001B[0m\u001B[1;33m\u001B[0m\u001B[0m\n\u001B[1;32m-> 1367\u001B[1;33m       \u001B[1;32mreturn\u001B[0m \u001B[0mfn\u001B[0m\u001B[1;33m(\u001B[0m\u001B[1;33m*\u001B[0m\u001B[0margs\u001B[0m\u001B[1;33m)\u001B[0m\u001B[1;33m\u001B[0m\u001B[1;33m\u001B[0m\u001B[0m\n\u001B[0m\u001B[0;32m   1368\u001B[0m     \u001B[1;32mexcept\u001B[0m \u001B[0merrors\u001B[0m\u001B[1;33m.\u001B[0m\u001B[0mOpError\u001B[0m \u001B[1;32mas\u001B[0m \u001B[0me\u001B[0m\u001B[1;33m:\u001B[0m\u001B[1;33m\u001B[0m\u001B[1;33m\u001B[0m\u001B[0m\n\u001B[0;32m   1369\u001B[0m       \u001B[0mmessage\u001B[0m \u001B[1;33m=\u001B[0m \u001B[0mcompat\u001B[0m\u001B[1;33m.\u001B[0m\u001B[0mas_text\u001B[0m\u001B[1;33m(\u001B[0m\u001B[0me\u001B[0m\u001B[1;33m.\u001B[0m\u001B[0mmessage\u001B[0m\u001B[1;33m)\u001B[0m\u001B[1;33m\u001B[0m\u001B[1;33m\u001B[0m\u001B[0m\n",
      "\u001B[1;32m~\\anaconda3\\envs\\tfgpu210\\lib\\site-packages\\tensorflow_core\\python\\client\\session.py\u001B[0m in \u001B[0;36m_run_fn\u001B[1;34m(feed_dict, fetch_list, target_list, options, run_metadata)\u001B[0m\n\u001B[0;32m   1350\u001B[0m       \u001B[0mself\u001B[0m\u001B[1;33m.\u001B[0m\u001B[0m_extend_graph\u001B[0m\u001B[1;33m(\u001B[0m\u001B[1;33m)\u001B[0m\u001B[1;33m\u001B[0m\u001B[1;33m\u001B[0m\u001B[0m\n\u001B[0;32m   1351\u001B[0m       return self._call_tf_sessionrun(options, feed_dict, fetch_list,\n\u001B[1;32m-> 1352\u001B[1;33m                                       target_list, run_metadata)\n\u001B[0m\u001B[0;32m   1353\u001B[0m \u001B[1;33m\u001B[0m\u001B[0m\n\u001B[0;32m   1354\u001B[0m     \u001B[1;32mdef\u001B[0m \u001B[0m_prun_fn\u001B[0m\u001B[1;33m(\u001B[0m\u001B[0mhandle\u001B[0m\u001B[1;33m,\u001B[0m \u001B[0mfeed_dict\u001B[0m\u001B[1;33m,\u001B[0m \u001B[0mfetch_list\u001B[0m\u001B[1;33m)\u001B[0m\u001B[1;33m:\u001B[0m\u001B[1;33m\u001B[0m\u001B[1;33m\u001B[0m\u001B[0m\n",
      "\u001B[1;32m~\\anaconda3\\envs\\tfgpu210\\lib\\site-packages\\tensorflow_core\\python\\client\\session.py\u001B[0m in \u001B[0;36m_call_tf_sessionrun\u001B[1;34m(self, options, feed_dict, fetch_list, target_list, run_metadata)\u001B[0m\n\u001B[0;32m   1443\u001B[0m     return tf_session.TF_SessionRun_wrapper(self._session, options, feed_dict,\n\u001B[0;32m   1444\u001B[0m                                             \u001B[0mfetch_list\u001B[0m\u001B[1;33m,\u001B[0m \u001B[0mtarget_list\u001B[0m\u001B[1;33m,\u001B[0m\u001B[1;33m\u001B[0m\u001B[1;33m\u001B[0m\u001B[0m\n\u001B[1;32m-> 1445\u001B[1;33m                                             run_metadata)\n\u001B[0m\u001B[0;32m   1446\u001B[0m \u001B[1;33m\u001B[0m\u001B[0m\n\u001B[0;32m   1447\u001B[0m   \u001B[1;32mdef\u001B[0m \u001B[0m_call_tf_sessionprun\u001B[0m\u001B[1;33m(\u001B[0m\u001B[0mself\u001B[0m\u001B[1;33m,\u001B[0m \u001B[0mhandle\u001B[0m\u001B[1;33m,\u001B[0m \u001B[0mfeed_dict\u001B[0m\u001B[1;33m,\u001B[0m \u001B[0mfetch_list\u001B[0m\u001B[1;33m)\u001B[0m\u001B[1;33m:\u001B[0m\u001B[1;33m\u001B[0m\u001B[1;33m\u001B[0m\u001B[0m\n",
      "\u001B[1;31mKeyboardInterrupt\u001B[0m: "
     ]
    }
   ],
   "source": [
    "with graph.as_default():\n",
    "    for batch in batch_generator.get_batch(batch_size=batch_size):\n",
    "        #batchには以下の形式(例)の辞書がyieldされる。\n",
    "        # {'transformer/encoder_input:0':[122,4,56,7,8,0,0,0,0] ,\n",
    "        # 'transformer/decoder_input:0':[3,56,66,100,0,0,0,0,0],\n",
    "        # 'transformer/is_training:0': True}\n",
    "\n",
    "        feed = {\n",
    "            **batch,\n",
    "            learning_rate: get_learning_rate(step + 1),\n",
    "        }\n",
    "        #batchの辞書にlearning_rate: get_learning_rate(step + 1)のkeyとvalueを追加している。\n",
    "        #このlearning_rate は tf.compat.v1.placeholder(dtype=tf.float32, name='learning_rate'\n",
    "\n",
    "\n",
    "        _, loss, acc, step, summary = sess.run( #stepはglobal_stepによってここで更新されている？\n",
    "            [optimize_op, transformer.loss, transformer.acc, global_step, summary_op],\n",
    "            feed_dict=feed\n",
    "        )\n",
    "        #sess.runの構文は、\n",
    "        #run(fetches, feed_dict=None, options=None, run_metadata=None)\n",
    "        #プレースホルダーに値を与えるには、evalメソッドのfeed_dict引数に辞書オブジェクトを与えるか（リスト2）、\n",
    "        #セッションクラスで定義されているrunメソッドのfeed_dict引数を用いる。\n",
    "\n",
    "        #build_graphの際にplaceholderの名前として\n",
    "        #self.encoder_input = tf.compat.v1.placeholder(dtype=tf.int32, shape=[None, None], name='encoder_input')\n",
    "        #などを定義しているので、feed_dict=feedによって、\n",
    "        #placeholderのencoder_input, decoder_input, is_training, learning_rateの4つが与えられる。\n",
    "\n",
    "        #fetchesはrunした際の1フィードでの（多分）それぞれの値を取得。\n",
    "        #global_stepは自動更新される？？\n",
    "\n",
    "        summary_writer.add_summary(summary, step)\n",
    "\n",
    "        #print(step)\n",
    "\n",
    "        if step % 100 == 0:\n",
    "            print(f'{step}: loss: {loss},\\t acc: {acc}')\n",
    "            saver.save(sess, ckpt_path, global_step=step)\n",
    "            # saver.saveの構文はsyntaxは以下の通り。\n",
    "            # save(sess, save_path, global_step=None, latest_filename=None,\n",
    "            # meta_graph_suffix='meta', write_meta_graph=True, write_state=True,\n",
    "            # strip_default_attrs=False, save_debug_info=False)"
   ]
  }
 ],
 "metadata": {
  "kernelspec": {
   "display_name": "Python 3",
   "language": "python",
   "name": "python3"
  },
  "language_info": {
   "codemirror_mode": {
    "name": "ipython",
    "version": 3
   },
   "file_extension": ".py",
   "mimetype": "text/x-python",
   "name": "python",
   "nbconvert_exporter": "python",
   "pygments_lexer": "ipython3",
   "version": "3.7.9"
  }
 },
 "nbformat": 4,
 "nbformat_minor": 2
}